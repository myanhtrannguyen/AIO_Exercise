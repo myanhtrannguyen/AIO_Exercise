{
 "cells": [
  {
   "cell_type": "markdown",
   "source": [
    "1. Read Data"
   ],
   "metadata": {
    "collapsed": false
   },
   "id": "5aa47f0f0f193505"
  },
  {
   "cell_type": "code",
   "outputs": [
    {
     "name": "stdout",
     "output_type": "stream",
     "text": [
      "   Rank                    Title                     Genre  \\\n",
      "0     1  Guardians of the Galaxy   Action,Adventure,Sci-Fi   \n",
      "1     2               Prometheus  Adventure,Mystery,Sci-Fi   \n",
      "2     3                    Split           Horror,Thriller   \n",
      "3     4                     Sing   Animation,Comedy,Family   \n",
      "4     5            Suicide Squad  Action,Adventure,Fantasy   \n",
      "\n",
      "                                         Description              Director  \\\n",
      "0  A group of intergalactic criminals are forced ...            James Gunn   \n",
      "1  Following clues to the origin of mankind, a te...          Ridley Scott   \n",
      "2  Three girls are kidnapped by a man with a diag...    M. Night Shyamalan   \n",
      "3  In a city of humanoid animals, a hustling thea...  Christophe Lourdelet   \n",
      "4  A secret government agency recruits some of th...            David Ayer   \n",
      "\n",
      "                                              Actors  Year  Runtime (Minutes)  \\\n",
      "0  Chris Pratt, Vin Diesel, Bradley Cooper, Zoe S...  2014                121   \n",
      "1  Noomi Rapace, Logan Marshall-Green, Michael Fa...  2012                124   \n",
      "2  James McAvoy, Anya Taylor-Joy, Haley Lu Richar...  2016                117   \n",
      "3  Matthew McConaughey,Reese Witherspoon, Seth Ma...  2016                108   \n",
      "4  Will Smith, Jared Leto, Margot Robbie, Viola D...  2016                123   \n",
      "\n",
      "   Rating   Votes  Revenue (Millions)  Metascore  \n",
      "0     8.1  757074              333.13       76.0  \n",
      "1     7.0  485820              126.46       65.0  \n",
      "2     7.3  157606              138.12       62.0  \n",
      "3     7.2   60545              270.32       59.0  \n",
      "4     6.2  393727              325.02       40.0  \n"
     ]
    }
   ],
   "source": [
    "#Import libraries and load dataset\n",
    "import numpy as np\n",
    "import pandas as pd\n",
    "import matplotlib.pyplot as plt\n",
    "\n",
    "dataset_path = 'IMDB-Movie-Data.csv'\n",
    "data = pd.read_csv(dataset_path)\n",
    "print(data.head())"
   ],
   "metadata": {
    "collapsed": false,
    "ExecuteTime": {
     "end_time": "2024-08-27T15:09:27.150194Z",
     "start_time": "2024-08-27T15:09:26.582680Z"
    }
   },
   "id": "2e6eb199f17d9598",
   "execution_count": 2
  },
  {
   "cell_type": "markdown",
   "source": [
    "2. View the data"
   ],
   "metadata": {
    "collapsed": false
   },
   "id": "4c913ff39402d6a0"
  },
  {
   "cell_type": "code",
   "outputs": [
    {
     "data": {
      "text/plain": "   Rank                    Title                     Genre  \\\n0     1  Guardians of the Galaxy   Action,Adventure,Sci-Fi   \n1     2               Prometheus  Adventure,Mystery,Sci-Fi   \n2     3                    Split           Horror,Thriller   \n3     4                     Sing   Animation,Comedy,Family   \n4     5            Suicide Squad  Action,Adventure,Fantasy   \n\n                                         Description              Director  \\\n0  A group of intergalactic criminals are forced ...            James Gunn   \n1  Following clues to the origin of mankind, a te...          Ridley Scott   \n2  Three girls are kidnapped by a man with a diag...    M. Night Shyamalan   \n3  In a city of humanoid animals, a hustling thea...  Christophe Lourdelet   \n4  A secret government agency recruits some of th...            David Ayer   \n\n                                              Actors  Year  Runtime (Minutes)  \\\n0  Chris Pratt, Vin Diesel, Bradley Cooper, Zoe S...  2014                121   \n1  Noomi Rapace, Logan Marshall-Green, Michael Fa...  2012                124   \n2  James McAvoy, Anya Taylor-Joy, Haley Lu Richar...  2016                117   \n3  Matthew McConaughey,Reese Witherspoon, Seth Ma...  2016                108   \n4  Will Smith, Jared Leto, Margot Robbie, Viola D...  2016                123   \n\n   Rating   Votes  Revenue (Millions)  Metascore  \n0     8.1  757074              333.13       76.0  \n1     7.0  485820              126.46       65.0  \n2     7.3  157606              138.12       62.0  \n3     7.2   60545              270.32       59.0  \n4     6.2  393727              325.02       40.0  ",
      "text/html": "<div>\n<style scoped>\n    .dataframe tbody tr th:only-of-type {\n        vertical-align: middle;\n    }\n\n    .dataframe tbody tr th {\n        vertical-align: top;\n    }\n\n    .dataframe thead th {\n        text-align: right;\n    }\n</style>\n<table border=\"1\" class=\"dataframe\">\n  <thead>\n    <tr style=\"text-align: right;\">\n      <th></th>\n      <th>Rank</th>\n      <th>Title</th>\n      <th>Genre</th>\n      <th>Description</th>\n      <th>Director</th>\n      <th>Actors</th>\n      <th>Year</th>\n      <th>Runtime (Minutes)</th>\n      <th>Rating</th>\n      <th>Votes</th>\n      <th>Revenue (Millions)</th>\n      <th>Metascore</th>\n    </tr>\n  </thead>\n  <tbody>\n    <tr>\n      <th>0</th>\n      <td>1</td>\n      <td>Guardians of the Galaxy</td>\n      <td>Action,Adventure,Sci-Fi</td>\n      <td>A group of intergalactic criminals are forced ...</td>\n      <td>James Gunn</td>\n      <td>Chris Pratt, Vin Diesel, Bradley Cooper, Zoe S...</td>\n      <td>2014</td>\n      <td>121</td>\n      <td>8.1</td>\n      <td>757074</td>\n      <td>333.13</td>\n      <td>76.0</td>\n    </tr>\n    <tr>\n      <th>1</th>\n      <td>2</td>\n      <td>Prometheus</td>\n      <td>Adventure,Mystery,Sci-Fi</td>\n      <td>Following clues to the origin of mankind, a te...</td>\n      <td>Ridley Scott</td>\n      <td>Noomi Rapace, Logan Marshall-Green, Michael Fa...</td>\n      <td>2012</td>\n      <td>124</td>\n      <td>7.0</td>\n      <td>485820</td>\n      <td>126.46</td>\n      <td>65.0</td>\n    </tr>\n    <tr>\n      <th>2</th>\n      <td>3</td>\n      <td>Split</td>\n      <td>Horror,Thriller</td>\n      <td>Three girls are kidnapped by a man with a diag...</td>\n      <td>M. Night Shyamalan</td>\n      <td>James McAvoy, Anya Taylor-Joy, Haley Lu Richar...</td>\n      <td>2016</td>\n      <td>117</td>\n      <td>7.3</td>\n      <td>157606</td>\n      <td>138.12</td>\n      <td>62.0</td>\n    </tr>\n    <tr>\n      <th>3</th>\n      <td>4</td>\n      <td>Sing</td>\n      <td>Animation,Comedy,Family</td>\n      <td>In a city of humanoid animals, a hustling thea...</td>\n      <td>Christophe Lourdelet</td>\n      <td>Matthew McConaughey,Reese Witherspoon, Seth Ma...</td>\n      <td>2016</td>\n      <td>108</td>\n      <td>7.2</td>\n      <td>60545</td>\n      <td>270.32</td>\n      <td>59.0</td>\n    </tr>\n    <tr>\n      <th>4</th>\n      <td>5</td>\n      <td>Suicide Squad</td>\n      <td>Action,Adventure,Fantasy</td>\n      <td>A secret government agency recruits some of th...</td>\n      <td>David Ayer</td>\n      <td>Will Smith, Jared Leto, Margot Robbie, Viola D...</td>\n      <td>2016</td>\n      <td>123</td>\n      <td>6.2</td>\n      <td>393727</td>\n      <td>325.02</td>\n      <td>40.0</td>\n    </tr>\n  </tbody>\n</table>\n</div>"
     },
     "execution_count": 3,
     "metadata": {},
     "output_type": "execute_result"
    }
   ],
   "source": [
    "# Preview top 5 rows using head()\n",
    "data.head()"
   ],
   "metadata": {
    "collapsed": false,
    "ExecuteTime": {
     "end_time": "2024-08-27T15:09:27.160655Z",
     "start_time": "2024-08-27T15:09:27.153344Z"
    }
   },
   "id": "151ddd3c6fdcf63e",
   "execution_count": 3
  },
  {
   "cell_type": "markdown",
   "source": [
    "3. Understand some basic information about the data"
   ],
   "metadata": {
    "collapsed": false
   },
   "id": "962a1748f0511fcf"
  },
  {
   "cell_type": "code",
   "outputs": [
    {
     "name": "stdout",
     "output_type": "stream",
     "text": [
      "<class 'pandas.core.frame.DataFrame'>\n",
      "RangeIndex: 1000 entries, 0 to 999\n",
      "Data columns (total 12 columns):\n",
      " #   Column              Non-Null Count  Dtype  \n",
      "---  ------              --------------  -----  \n",
      " 0   Rank                1000 non-null   int64  \n",
      " 1   Title               1000 non-null   object \n",
      " 2   Genre               1000 non-null   object \n",
      " 3   Description         1000 non-null   object \n",
      " 4   Director            1000 non-null   object \n",
      " 5   Actors              1000 non-null   object \n",
      " 6   Year                1000 non-null   int64  \n",
      " 7   Runtime (Minutes)   1000 non-null   int64  \n",
      " 8   Rating              1000 non-null   float64\n",
      " 9   Votes               1000 non-null   int64  \n",
      " 10  Revenue (Millions)  872 non-null    float64\n",
      " 11  Metascore           936 non-null    float64\n",
      "dtypes: float64(3), int64(4), object(5)\n",
      "memory usage: 93.9+ KB\n"
     ]
    }
   ],
   "source": [
    "data.info()"
   ],
   "metadata": {
    "collapsed": false,
    "ExecuteTime": {
     "end_time": "2024-08-27T15:09:27.166638Z",
     "start_time": "2024-08-27T15:09:27.161334Z"
    }
   },
   "id": "b39b9c2136160c37",
   "execution_count": 4
  },
  {
   "cell_type": "code",
   "outputs": [
    {
     "data": {
      "text/plain": "              Rank         Year  Runtime (Minutes)       Rating         Votes  \\\ncount  1000.000000  1000.000000        1000.000000  1000.000000  1.000000e+03   \nmean    500.500000  2012.783000         113.172000     6.723200  1.698083e+05   \nstd     288.819436     3.205962          18.810908     0.945429  1.887626e+05   \nmin       1.000000  2006.000000          66.000000     1.900000  6.100000e+01   \n25%     250.750000  2010.000000         100.000000     6.200000  3.630900e+04   \n50%     500.500000  2014.000000         111.000000     6.800000  1.107990e+05   \n75%     750.250000  2016.000000         123.000000     7.400000  2.399098e+05   \nmax    1000.000000  2016.000000         191.000000     9.000000  1.791916e+06   \n\n       Revenue (Millions)   Metascore  \ncount          872.000000  936.000000  \nmean            82.956376   58.985043  \nstd            103.253540   17.194757  \nmin              0.000000   11.000000  \n25%             13.270000   47.000000  \n50%             47.985000   59.500000  \n75%            113.715000   72.000000  \nmax            936.630000  100.000000  ",
      "text/html": "<div>\n<style scoped>\n    .dataframe tbody tr th:only-of-type {\n        vertical-align: middle;\n    }\n\n    .dataframe tbody tr th {\n        vertical-align: top;\n    }\n\n    .dataframe thead th {\n        text-align: right;\n    }\n</style>\n<table border=\"1\" class=\"dataframe\">\n  <thead>\n    <tr style=\"text-align: right;\">\n      <th></th>\n      <th>Rank</th>\n      <th>Year</th>\n      <th>Runtime (Minutes)</th>\n      <th>Rating</th>\n      <th>Votes</th>\n      <th>Revenue (Millions)</th>\n      <th>Metascore</th>\n    </tr>\n  </thead>\n  <tbody>\n    <tr>\n      <th>count</th>\n      <td>1000.000000</td>\n      <td>1000.000000</td>\n      <td>1000.000000</td>\n      <td>1000.000000</td>\n      <td>1.000000e+03</td>\n      <td>872.000000</td>\n      <td>936.000000</td>\n    </tr>\n    <tr>\n      <th>mean</th>\n      <td>500.500000</td>\n      <td>2012.783000</td>\n      <td>113.172000</td>\n      <td>6.723200</td>\n      <td>1.698083e+05</td>\n      <td>82.956376</td>\n      <td>58.985043</td>\n    </tr>\n    <tr>\n      <th>std</th>\n      <td>288.819436</td>\n      <td>3.205962</td>\n      <td>18.810908</td>\n      <td>0.945429</td>\n      <td>1.887626e+05</td>\n      <td>103.253540</td>\n      <td>17.194757</td>\n    </tr>\n    <tr>\n      <th>min</th>\n      <td>1.000000</td>\n      <td>2006.000000</td>\n      <td>66.000000</td>\n      <td>1.900000</td>\n      <td>6.100000e+01</td>\n      <td>0.000000</td>\n      <td>11.000000</td>\n    </tr>\n    <tr>\n      <th>25%</th>\n      <td>250.750000</td>\n      <td>2010.000000</td>\n      <td>100.000000</td>\n      <td>6.200000</td>\n      <td>3.630900e+04</td>\n      <td>13.270000</td>\n      <td>47.000000</td>\n    </tr>\n    <tr>\n      <th>50%</th>\n      <td>500.500000</td>\n      <td>2014.000000</td>\n      <td>111.000000</td>\n      <td>6.800000</td>\n      <td>1.107990e+05</td>\n      <td>47.985000</td>\n      <td>59.500000</td>\n    </tr>\n    <tr>\n      <th>75%</th>\n      <td>750.250000</td>\n      <td>2016.000000</td>\n      <td>123.000000</td>\n      <td>7.400000</td>\n      <td>2.399098e+05</td>\n      <td>113.715000</td>\n      <td>72.000000</td>\n    </tr>\n    <tr>\n      <th>max</th>\n      <td>1000.000000</td>\n      <td>2016.000000</td>\n      <td>191.000000</td>\n      <td>9.000000</td>\n      <td>1.791916e+06</td>\n      <td>936.630000</td>\n      <td>100.000000</td>\n    </tr>\n  </tbody>\n</table>\n</div>"
     },
     "execution_count": 5,
     "metadata": {},
     "output_type": "execute_result"
    }
   ],
   "source": [
    "data.describe()"
   ],
   "metadata": {
    "collapsed": false,
    "ExecuteTime": {
     "end_time": "2024-08-27T15:09:27.176338Z",
     "start_time": "2024-08-27T15:09:27.167785Z"
    }
   },
   "id": "94390017ae7be86",
   "execution_count": 5
  },
  {
   "cell_type": "markdown",
   "source": [
    "4. Data Selection - Indexing and Slicing data"
   ],
   "metadata": {
    "collapsed": false
   },
   "id": "a32d81637da8979c"
  },
  {
   "cell_type": "code",
   "outputs": [
    {
     "data": {
      "text/plain": "0       Action,Adventure,Sci-Fi\n1      Adventure,Mystery,Sci-Fi\n2               Horror,Thriller\n3       Animation,Comedy,Family\n4      Action,Adventure,Fantasy\n                 ...           \n995         Crime,Drama,Mystery\n996                      Horror\n997         Drama,Music,Romance\n998            Adventure,Comedy\n999       Comedy,Family,Fantasy\nName: Genre, Length: 1000, dtype: object"
     },
     "execution_count": 6,
     "metadata": {},
     "output_type": "execute_result"
    }
   ],
   "source": [
    "# Extract data as series\n",
    "genre = data['Genre']\n",
    "genre "
   ],
   "metadata": {
    "collapsed": false,
    "ExecuteTime": {
     "end_time": "2024-08-27T15:09:27.179816Z",
     "start_time": "2024-08-27T15:09:27.176915Z"
    }
   },
   "id": "c912aa35e9c217b",
   "execution_count": 6
  },
  {
   "cell_type": "code",
   "outputs": [
    {
     "data": {
      "text/plain": "                        Genre\n0     Action,Adventure,Sci-Fi\n1    Adventure,Mystery,Sci-Fi\n2             Horror,Thriller\n3     Animation,Comedy,Family\n4    Action,Adventure,Fantasy\n..                        ...\n995       Crime,Drama,Mystery\n996                    Horror\n997       Drama,Music,Romance\n998          Adventure,Comedy\n999     Comedy,Family,Fantasy\n\n[1000 rows x 1 columns]",
      "text/html": "<div>\n<style scoped>\n    .dataframe tbody tr th:only-of-type {\n        vertical-align: middle;\n    }\n\n    .dataframe tbody tr th {\n        vertical-align: top;\n    }\n\n    .dataframe thead th {\n        text-align: right;\n    }\n</style>\n<table border=\"1\" class=\"dataframe\">\n  <thead>\n    <tr style=\"text-align: right;\">\n      <th></th>\n      <th>Genre</th>\n    </tr>\n  </thead>\n  <tbody>\n    <tr>\n      <th>0</th>\n      <td>Action,Adventure,Sci-Fi</td>\n    </tr>\n    <tr>\n      <th>1</th>\n      <td>Adventure,Mystery,Sci-Fi</td>\n    </tr>\n    <tr>\n      <th>2</th>\n      <td>Horror,Thriller</td>\n    </tr>\n    <tr>\n      <th>3</th>\n      <td>Animation,Comedy,Family</td>\n    </tr>\n    <tr>\n      <th>4</th>\n      <td>Action,Adventure,Fantasy</td>\n    </tr>\n    <tr>\n      <th>...</th>\n      <td>...</td>\n    </tr>\n    <tr>\n      <th>995</th>\n      <td>Crime,Drama,Mystery</td>\n    </tr>\n    <tr>\n      <th>996</th>\n      <td>Horror</td>\n    </tr>\n    <tr>\n      <th>997</th>\n      <td>Drama,Music,Romance</td>\n    </tr>\n    <tr>\n      <th>998</th>\n      <td>Adventure,Comedy</td>\n    </tr>\n    <tr>\n      <th>999</th>\n      <td>Comedy,Family,Fantasy</td>\n    </tr>\n  </tbody>\n</table>\n<p>1000 rows × 1 columns</p>\n</div>"
     },
     "execution_count": 7,
     "metadata": {},
     "output_type": "execute_result"
    }
   ],
   "source": [
    "# Extract data as dataframe\n",
    "data[[\"Genre\"]]"
   ],
   "metadata": {
    "collapsed": false,
    "ExecuteTime": {
     "end_time": "2024-08-27T15:09:27.184323Z",
     "start_time": "2024-08-27T15:09:27.180453Z"
    }
   },
   "id": "1a1507329efa578b",
   "execution_count": 7
  },
  {
   "cell_type": "code",
   "outputs": [
    {
     "data": {
      "text/plain": "                       Title                     Genre  \\\n0    Guardians of the Galaxy   Action,Adventure,Sci-Fi   \n1                 Prometheus  Adventure,Mystery,Sci-Fi   \n2                      Split           Horror,Thriller   \n3                       Sing   Animation,Comedy,Family   \n4              Suicide Squad  Action,Adventure,Fantasy   \n..                       ...                       ...   \n995     Secret in Their Eyes       Crime,Drama,Mystery   \n996          Hostel: Part II                    Horror   \n997   Step Up 2: The Streets       Drama,Music,Romance   \n998             Search Party          Adventure,Comedy   \n999               Nine Lives     Comedy,Family,Fantasy   \n\n                                                Actors              Director  \\\n0    Chris Pratt, Vin Diesel, Bradley Cooper, Zoe S...            James Gunn   \n1    Noomi Rapace, Logan Marshall-Green, Michael Fa...          Ridley Scott   \n2    James McAvoy, Anya Taylor-Joy, Haley Lu Richar...    M. Night Shyamalan   \n3    Matthew McConaughey,Reese Witherspoon, Seth Ma...  Christophe Lourdelet   \n4    Will Smith, Jared Leto, Margot Robbie, Viola D...            David Ayer   \n..                                                 ...                   ...   \n995  Chiwetel Ejiofor, Nicole Kidman, Julia Roberts...             Billy Ray   \n996  Lauren German, Heather Matarazzo, Bijou Philli...              Eli Roth   \n997  Robert Hoffman, Briana Evigan, Cassie Ventura,...            Jon M. Chu   \n998  Adam Pally, T.J. Miller, Thomas Middleditch,Sh...        Scot Armstrong   \n999  Kevin Spacey, Jennifer Garner, Robbie Amell,Ch...      Barry Sonnenfeld   \n\n     Rating  \n0       8.1  \n1       7.0  \n2       7.3  \n3       7.2  \n4       6.2  \n..      ...  \n995     6.2  \n996     5.5  \n997     6.2  \n998     5.6  \n999     5.3  \n\n[1000 rows x 5 columns]",
      "text/html": "<div>\n<style scoped>\n    .dataframe tbody tr th:only-of-type {\n        vertical-align: middle;\n    }\n\n    .dataframe tbody tr th {\n        vertical-align: top;\n    }\n\n    .dataframe thead th {\n        text-align: right;\n    }\n</style>\n<table border=\"1\" class=\"dataframe\">\n  <thead>\n    <tr style=\"text-align: right;\">\n      <th></th>\n      <th>Title</th>\n      <th>Genre</th>\n      <th>Actors</th>\n      <th>Director</th>\n      <th>Rating</th>\n    </tr>\n  </thead>\n  <tbody>\n    <tr>\n      <th>0</th>\n      <td>Guardians of the Galaxy</td>\n      <td>Action,Adventure,Sci-Fi</td>\n      <td>Chris Pratt, Vin Diesel, Bradley Cooper, Zoe S...</td>\n      <td>James Gunn</td>\n      <td>8.1</td>\n    </tr>\n    <tr>\n      <th>1</th>\n      <td>Prometheus</td>\n      <td>Adventure,Mystery,Sci-Fi</td>\n      <td>Noomi Rapace, Logan Marshall-Green, Michael Fa...</td>\n      <td>Ridley Scott</td>\n      <td>7.0</td>\n    </tr>\n    <tr>\n      <th>2</th>\n      <td>Split</td>\n      <td>Horror,Thriller</td>\n      <td>James McAvoy, Anya Taylor-Joy, Haley Lu Richar...</td>\n      <td>M. Night Shyamalan</td>\n      <td>7.3</td>\n    </tr>\n    <tr>\n      <th>3</th>\n      <td>Sing</td>\n      <td>Animation,Comedy,Family</td>\n      <td>Matthew McConaughey,Reese Witherspoon, Seth Ma...</td>\n      <td>Christophe Lourdelet</td>\n      <td>7.2</td>\n    </tr>\n    <tr>\n      <th>4</th>\n      <td>Suicide Squad</td>\n      <td>Action,Adventure,Fantasy</td>\n      <td>Will Smith, Jared Leto, Margot Robbie, Viola D...</td>\n      <td>David Ayer</td>\n      <td>6.2</td>\n    </tr>\n    <tr>\n      <th>...</th>\n      <td>...</td>\n      <td>...</td>\n      <td>...</td>\n      <td>...</td>\n      <td>...</td>\n    </tr>\n    <tr>\n      <th>995</th>\n      <td>Secret in Their Eyes</td>\n      <td>Crime,Drama,Mystery</td>\n      <td>Chiwetel Ejiofor, Nicole Kidman, Julia Roberts...</td>\n      <td>Billy Ray</td>\n      <td>6.2</td>\n    </tr>\n    <tr>\n      <th>996</th>\n      <td>Hostel: Part II</td>\n      <td>Horror</td>\n      <td>Lauren German, Heather Matarazzo, Bijou Philli...</td>\n      <td>Eli Roth</td>\n      <td>5.5</td>\n    </tr>\n    <tr>\n      <th>997</th>\n      <td>Step Up 2: The Streets</td>\n      <td>Drama,Music,Romance</td>\n      <td>Robert Hoffman, Briana Evigan, Cassie Ventura,...</td>\n      <td>Jon M. Chu</td>\n      <td>6.2</td>\n    </tr>\n    <tr>\n      <th>998</th>\n      <td>Search Party</td>\n      <td>Adventure,Comedy</td>\n      <td>Adam Pally, T.J. Miller, Thomas Middleditch,Sh...</td>\n      <td>Scot Armstrong</td>\n      <td>5.6</td>\n    </tr>\n    <tr>\n      <th>999</th>\n      <td>Nine Lives</td>\n      <td>Comedy,Family,Fantasy</td>\n      <td>Kevin Spacey, Jennifer Garner, Robbie Amell,Ch...</td>\n      <td>Barry Sonnenfeld</td>\n      <td>5.3</td>\n    </tr>\n  </tbody>\n</table>\n<p>1000 rows × 5 columns</p>\n</div>"
     },
     "execution_count": 8,
     "metadata": {},
     "output_type": "execute_result"
    }
   ],
   "source": [
    "some_cols = data[['Title', 'Genre', 'Actors', 'Director', 'Rating']]\n",
    "some_cols "
   ],
   "metadata": {
    "collapsed": false,
    "ExecuteTime": {
     "end_time": "2024-08-27T15:09:27.189803Z",
     "start_time": "2024-08-27T15:09:27.184763Z"
    }
   },
   "id": "a5cc222ae6b46d45",
   "execution_count": 8
  },
  {
   "cell_type": "code",
   "outputs": [
    {
     "data": {
      "text/plain": "                                      Title  Rating  Revenue (Millions)\n10  Fantastic Beasts and Where to Find Them     7.5              234.02\n11                           Hidden Figures     7.8              169.27\n12                                Rogue One     7.9              532.17\n13                                    Moana     7.7              248.75\n14                                 Colossal     6.4                2.87",
      "text/html": "<div>\n<style scoped>\n    .dataframe tbody tr th:only-of-type {\n        vertical-align: middle;\n    }\n\n    .dataframe tbody tr th {\n        vertical-align: top;\n    }\n\n    .dataframe thead th {\n        text-align: right;\n    }\n</style>\n<table border=\"1\" class=\"dataframe\">\n  <thead>\n    <tr style=\"text-align: right;\">\n      <th></th>\n      <th>Title</th>\n      <th>Rating</th>\n      <th>Revenue (Millions)</th>\n    </tr>\n  </thead>\n  <tbody>\n    <tr>\n      <th>10</th>\n      <td>Fantastic Beasts and Where to Find Them</td>\n      <td>7.5</td>\n      <td>234.02</td>\n    </tr>\n    <tr>\n      <th>11</th>\n      <td>Hidden Figures</td>\n      <td>7.8</td>\n      <td>169.27</td>\n    </tr>\n    <tr>\n      <th>12</th>\n      <td>Rogue One</td>\n      <td>7.9</td>\n      <td>532.17</td>\n    </tr>\n    <tr>\n      <th>13</th>\n      <td>Moana</td>\n      <td>7.7</td>\n      <td>248.75</td>\n    </tr>\n    <tr>\n      <th>14</th>\n      <td>Colossal</td>\n      <td>6.4</td>\n      <td>2.87</td>\n    </tr>\n  </tbody>\n</table>\n</div>"
     },
     "execution_count": 9,
     "metadata": {},
     "output_type": "execute_result"
    }
   ],
   "source": [
    "data.iloc[10:15][['Title', 'Rating', 'Revenue (Millions)']]"
   ],
   "metadata": {
    "collapsed": false,
    "ExecuteTime": {
     "end_time": "2024-08-27T15:09:27.194430Z",
     "start_time": "2024-08-27T15:09:27.190782Z"
    }
   },
   "id": "1000212f1d1dee52",
   "execution_count": 9
  },
  {
   "cell_type": "markdown",
   "source": [
    "5. Data Selection - Based on Conditional filtering"
   ],
   "metadata": {
    "collapsed": false
   },
   "id": "6844a63cd6cf4cc"
  },
  {
   "cell_type": "code",
   "outputs": [
    {
     "data": {
      "text/plain": "     Rank                       Title                    Genre  \\\n941   942  The Twilight Saga: Eclipse  Adventure,Drama,Fantasy   \n\n                                           Description     Director  \\\n941  As a string of mysterious killings grips Seatt...  David Slade   \n\n                                                Actors  Year  \\\n941  Kristen Stewart, Robert Pattinson, Taylor Laut...  2010   \n\n     Runtime (Minutes)  Rating   Votes  Revenue (Millions)  Metascore  \n941                124     4.9  192740              300.52       58.0  ",
      "text/html": "<div>\n<style scoped>\n    .dataframe tbody tr th:only-of-type {\n        vertical-align: middle;\n    }\n\n    .dataframe tbody tr th {\n        vertical-align: top;\n    }\n\n    .dataframe thead th {\n        text-align: right;\n    }\n</style>\n<table border=\"1\" class=\"dataframe\">\n  <thead>\n    <tr style=\"text-align: right;\">\n      <th></th>\n      <th>Rank</th>\n      <th>Title</th>\n      <th>Genre</th>\n      <th>Description</th>\n      <th>Director</th>\n      <th>Actors</th>\n      <th>Year</th>\n      <th>Runtime (Minutes)</th>\n      <th>Rating</th>\n      <th>Votes</th>\n      <th>Revenue (Millions)</th>\n      <th>Metascore</th>\n    </tr>\n  </thead>\n  <tbody>\n    <tr>\n      <th>941</th>\n      <td>942</td>\n      <td>The Twilight Saga: Eclipse</td>\n      <td>Adventure,Drama,Fantasy</td>\n      <td>As a string of mysterious killings grips Seatt...</td>\n      <td>David Slade</td>\n      <td>Kristen Stewart, Robert Pattinson, Taylor Laut...</td>\n      <td>2010</td>\n      <td>124</td>\n      <td>4.9</td>\n      <td>192740</td>\n      <td>300.52</td>\n      <td>58.0</td>\n    </tr>\n  </tbody>\n</table>\n</div>"
     },
     "execution_count": 10,
     "metadata": {},
     "output_type": "execute_result"
    }
   ],
   "source": [
    "data[((data['Year'] >= 2010) & (data['Year'] <= 2015))\n",
    "& (data['Rating'] < 6.0)\n",
    "& (data['Revenue (Millions)'] > data['Revenue (Millions)'].quantile(0.95))]"
   ],
   "metadata": {
    "collapsed": false,
    "ExecuteTime": {
     "end_time": "2024-08-27T15:09:27.200249Z",
     "start_time": "2024-08-27T15:09:27.194966Z"
    }
   },
   "id": "ff7f19953594a5ec",
   "execution_count": 10
  },
  {
   "cell_type": "markdown",
   "source": [
    "6. Groupby Operations"
   ],
   "metadata": {
    "collapsed": false
   },
   "id": "875cbc423d5e4e5d"
  },
  {
   "cell_type": "code",
   "outputs": [
    {
     "data": {
      "text/plain": "                     Rating\nDirector                   \nAamir Khan              8.5\nAbdellatif Kechiche     7.8\nAdam Leon               6.5\nAdam McKay              7.0\nAdam Shankman           6.3",
      "text/html": "<div>\n<style scoped>\n    .dataframe tbody tr th:only-of-type {\n        vertical-align: middle;\n    }\n\n    .dataframe tbody tr th {\n        vertical-align: top;\n    }\n\n    .dataframe thead th {\n        text-align: right;\n    }\n</style>\n<table border=\"1\" class=\"dataframe\">\n  <thead>\n    <tr style=\"text-align: right;\">\n      <th></th>\n      <th>Rating</th>\n    </tr>\n    <tr>\n      <th>Director</th>\n      <th></th>\n    </tr>\n  </thead>\n  <tbody>\n    <tr>\n      <th>Aamir Khan</th>\n      <td>8.5</td>\n    </tr>\n    <tr>\n      <th>Abdellatif Kechiche</th>\n      <td>7.8</td>\n    </tr>\n    <tr>\n      <th>Adam Leon</th>\n      <td>6.5</td>\n    </tr>\n    <tr>\n      <th>Adam McKay</th>\n      <td>7.0</td>\n    </tr>\n    <tr>\n      <th>Adam Shankman</th>\n      <td>6.3</td>\n    </tr>\n  </tbody>\n</table>\n</div>"
     },
     "execution_count": 11,
     "metadata": {},
     "output_type": "execute_result"
    }
   ],
   "source": [
    "data.groupby('Director')[['Rating']].mean().head()"
   ],
   "metadata": {
    "collapsed": false,
    "ExecuteTime": {
     "end_time": "2024-08-27T15:09:27.206319Z",
     "start_time": "2024-08-27T15:09:27.202149Z"
    }
   },
   "id": "20dcbefefb696819",
   "execution_count": 11
  },
  {
   "cell_type": "markdown",
   "source": [
    "7. Sorting Operations"
   ],
   "metadata": {
    "collapsed": false
   },
   "id": "a62b89ca453b1a10"
  },
  {
   "cell_type": "code",
   "outputs": [
    {
     "data": {
      "text/plain": "                   Rating\nDirector                 \nNitesh Tiwari        8.80\nChristopher Nolan    8.68\nOlivier Nakache      8.60\nMakoto Shinkai       8.60\nAamir Khan           8.50",
      "text/html": "<div>\n<style scoped>\n    .dataframe tbody tr th:only-of-type {\n        vertical-align: middle;\n    }\n\n    .dataframe tbody tr th {\n        vertical-align: top;\n    }\n\n    .dataframe thead th {\n        text-align: right;\n    }\n</style>\n<table border=\"1\" class=\"dataframe\">\n  <thead>\n    <tr style=\"text-align: right;\">\n      <th></th>\n      <th>Rating</th>\n    </tr>\n    <tr>\n      <th>Director</th>\n      <th></th>\n    </tr>\n  </thead>\n  <tbody>\n    <tr>\n      <th>Nitesh Tiwari</th>\n      <td>8.80</td>\n    </tr>\n    <tr>\n      <th>Christopher Nolan</th>\n      <td>8.68</td>\n    </tr>\n    <tr>\n      <th>Olivier Nakache</th>\n      <td>8.60</td>\n    </tr>\n    <tr>\n      <th>Makoto Shinkai</th>\n      <td>8.60</td>\n    </tr>\n    <tr>\n      <th>Aamir Khan</th>\n      <td>8.50</td>\n    </tr>\n  </tbody>\n</table>\n</div>"
     },
     "execution_count": 12,
     "metadata": {},
     "output_type": "execute_result"
    }
   ],
   "source": [
    "data.groupby('Director')[['Rating']].mean().sort_values(['Rating'], ascending = False).head()"
   ],
   "metadata": {
    "collapsed": false,
    "ExecuteTime": {
     "end_time": "2024-08-27T15:09:27.210963Z",
     "start_time": "2024-08-27T15:09:27.206945Z"
    }
   },
   "id": "14cac4812811abf8",
   "execution_count": 12
  },
  {
   "cell_type": "markdown",
   "source": [
    "8. View missing values"
   ],
   "metadata": {
    "collapsed": false
   },
   "id": "bbe52841d3af09ef"
  },
  {
   "cell_type": "code",
   "outputs": [
    {
     "data": {
      "text/plain": "Rank                    0\nTitle                   0\nGenre                   0\nDescription             0\nDirector                0\nActors                  0\nYear                    0\nRuntime (Minutes)       0\nRating                  0\nVotes                   0\nRevenue (Millions)    128\nMetascore              64\ndtype: int64"
     },
     "execution_count": 13,
     "metadata": {},
     "output_type": "execute_result"
    }
   ],
   "source": [
    "# To check null values row-wise\n",
    "data.isnull().sum()"
   ],
   "metadata": {
    "collapsed": false,
    "ExecuteTime": {
     "end_time": "2024-08-27T15:09:27.214946Z",
     "start_time": "2024-08-27T15:09:27.211574Z"
    }
   },
   "id": "72e58fc86c121598",
   "execution_count": 13
  },
  {
   "cell_type": "markdown",
   "source": [
    "9. Deal with missing values - Deleting"
   ],
   "metadata": {
    "collapsed": false
   },
   "id": "8dcc21f959b962f3"
  },
  {
   "cell_type": "code",
   "outputs": [
    {
     "data": {
      "text/plain": "   Rank                    Title                     Genre  \\\n0     1  Guardians of the Galaxy   Action,Adventure,Sci-Fi   \n1     2               Prometheus  Adventure,Mystery,Sci-Fi   \n2     3                    Split           Horror,Thriller   \n3     4                     Sing   Animation,Comedy,Family   \n4     5            Suicide Squad  Action,Adventure,Fantasy   \n\n                                         Description              Director  \\\n0  A group of intergalactic criminals are forced ...            James Gunn   \n1  Following clues to the origin of mankind, a te...          Ridley Scott   \n2  Three girls are kidnapped by a man with a diag...    M. Night Shyamalan   \n3  In a city of humanoid animals, a hustling thea...  Christophe Lourdelet   \n4  A secret government agency recruits some of th...            David Ayer   \n\n                                              Actors  Year  Runtime (Minutes)  \\\n0  Chris Pratt, Vin Diesel, Bradley Cooper, Zoe S...  2014                121   \n1  Noomi Rapace, Logan Marshall-Green, Michael Fa...  2012                124   \n2  James McAvoy, Anya Taylor-Joy, Haley Lu Richar...  2016                117   \n3  Matthew McConaughey,Reese Witherspoon, Seth Ma...  2016                108   \n4  Will Smith, Jared Leto, Margot Robbie, Viola D...  2016                123   \n\n   Rating   Votes  Revenue (Millions)  \n0     8.1  757074              333.13  \n1     7.0  485820              126.46  \n2     7.3  157606              138.12  \n3     7.2   60545              270.32  \n4     6.2  393727              325.02  ",
      "text/html": "<div>\n<style scoped>\n    .dataframe tbody tr th:only-of-type {\n        vertical-align: middle;\n    }\n\n    .dataframe tbody tr th {\n        vertical-align: top;\n    }\n\n    .dataframe thead th {\n        text-align: right;\n    }\n</style>\n<table border=\"1\" class=\"dataframe\">\n  <thead>\n    <tr style=\"text-align: right;\">\n      <th></th>\n      <th>Rank</th>\n      <th>Title</th>\n      <th>Genre</th>\n      <th>Description</th>\n      <th>Director</th>\n      <th>Actors</th>\n      <th>Year</th>\n      <th>Runtime (Minutes)</th>\n      <th>Rating</th>\n      <th>Votes</th>\n      <th>Revenue (Millions)</th>\n    </tr>\n  </thead>\n  <tbody>\n    <tr>\n      <th>0</th>\n      <td>1</td>\n      <td>Guardians of the Galaxy</td>\n      <td>Action,Adventure,Sci-Fi</td>\n      <td>A group of intergalactic criminals are forced ...</td>\n      <td>James Gunn</td>\n      <td>Chris Pratt, Vin Diesel, Bradley Cooper, Zoe S...</td>\n      <td>2014</td>\n      <td>121</td>\n      <td>8.1</td>\n      <td>757074</td>\n      <td>333.13</td>\n    </tr>\n    <tr>\n      <th>1</th>\n      <td>2</td>\n      <td>Prometheus</td>\n      <td>Adventure,Mystery,Sci-Fi</td>\n      <td>Following clues to the origin of mankind, a te...</td>\n      <td>Ridley Scott</td>\n      <td>Noomi Rapace, Logan Marshall-Green, Michael Fa...</td>\n      <td>2012</td>\n      <td>124</td>\n      <td>7.0</td>\n      <td>485820</td>\n      <td>126.46</td>\n    </tr>\n    <tr>\n      <th>2</th>\n      <td>3</td>\n      <td>Split</td>\n      <td>Horror,Thriller</td>\n      <td>Three girls are kidnapped by a man with a diag...</td>\n      <td>M. Night Shyamalan</td>\n      <td>James McAvoy, Anya Taylor-Joy, Haley Lu Richar...</td>\n      <td>2016</td>\n      <td>117</td>\n      <td>7.3</td>\n      <td>157606</td>\n      <td>138.12</td>\n    </tr>\n    <tr>\n      <th>3</th>\n      <td>4</td>\n      <td>Sing</td>\n      <td>Animation,Comedy,Family</td>\n      <td>In a city of humanoid animals, a hustling thea...</td>\n      <td>Christophe Lourdelet</td>\n      <td>Matthew McConaughey,Reese Witherspoon, Seth Ma...</td>\n      <td>2016</td>\n      <td>108</td>\n      <td>7.2</td>\n      <td>60545</td>\n      <td>270.32</td>\n    </tr>\n    <tr>\n      <th>4</th>\n      <td>5</td>\n      <td>Suicide Squad</td>\n      <td>Action,Adventure,Fantasy</td>\n      <td>A secret government agency recruits some of th...</td>\n      <td>David Ayer</td>\n      <td>Will Smith, Jared Leto, Margot Robbie, Viola D...</td>\n      <td>2016</td>\n      <td>123</td>\n      <td>6.2</td>\n      <td>393727</td>\n      <td>325.02</td>\n    </tr>\n  </tbody>\n</table>\n</div>"
     },
     "execution_count": 14,
     "metadata": {},
     "output_type": "execute_result"
    }
   ],
   "source": [
    "# Use drop function to drop columns\n",
    "data.drop('Metascore', axis = 1).head()"
   ],
   "metadata": {
    "collapsed": false,
    "ExecuteTime": {
     "end_time": "2024-08-27T15:09:27.220099Z",
     "start_time": "2024-08-27T15:09:27.215753Z"
    }
   },
   "id": "5c0b6aef0c03c870",
   "execution_count": 14
  },
  {
   "cell_type": "markdown",
   "source": [
    "Lệnh trên vân chưa drop data thực trên serve cho tới khi ta thêm inplace = True"
   ],
   "metadata": {
    "collapsed": false
   },
   "id": "9611e064df4116e5"
  },
  {
   "cell_type": "code",
   "outputs": [
    {
     "data": {
      "text/plain": "     Rank                     Title                     Genre  \\\n0       1   Guardians of the Galaxy   Action,Adventure,Sci-Fi   \n1       2                Prometheus  Adventure,Mystery,Sci-Fi   \n2       3                     Split           Horror,Thriller   \n3       4                      Sing   Animation,Comedy,Family   \n4       5             Suicide Squad  Action,Adventure,Fantasy   \n..    ...                       ...                       ...   \n993   994  Resident Evil: Afterlife   Action,Adventure,Horror   \n994   995                 Project X                    Comedy   \n996   997           Hostel: Part II                    Horror   \n997   998    Step Up 2: The Streets       Drama,Music,Romance   \n999  1000                Nine Lives     Comedy,Family,Fantasy   \n\n                                           Description              Director  \\\n0    A group of intergalactic criminals are forced ...            James Gunn   \n1    Following clues to the origin of mankind, a te...          Ridley Scott   \n2    Three girls are kidnapped by a man with a diag...    M. Night Shyamalan   \n3    In a city of humanoid animals, a hustling thea...  Christophe Lourdelet   \n4    A secret government agency recruits some of th...            David Ayer   \n..                                                 ...                   ...   \n993  While still out to destroy the evil Umbrella C...    Paul W.S. Anderson   \n994  3 high school seniors throw a birthday party t...       Nima Nourizadeh   \n996  Three American college students studying abroa...              Eli Roth   \n997  Romantic sparks occur between two dance studen...            Jon M. Chu   \n999  A stuffy businessman finds himself trapped ins...      Barry Sonnenfeld   \n\n                                                Actors  Year  \\\n0    Chris Pratt, Vin Diesel, Bradley Cooper, Zoe S...  2014   \n1    Noomi Rapace, Logan Marshall-Green, Michael Fa...  2012   \n2    James McAvoy, Anya Taylor-Joy, Haley Lu Richar...  2016   \n3    Matthew McConaughey,Reese Witherspoon, Seth Ma...  2016   \n4    Will Smith, Jared Leto, Margot Robbie, Viola D...  2016   \n..                                                 ...   ...   \n993  Milla Jovovich, Ali Larter, Wentworth Miller,K...  2010   \n994  Thomas Mann, Oliver Cooper, Jonathan Daniel Br...  2012   \n996  Lauren German, Heather Matarazzo, Bijou Philli...  2007   \n997  Robert Hoffman, Briana Evigan, Cassie Ventura,...  2008   \n999  Kevin Spacey, Jennifer Garner, Robbie Amell,Ch...  2016   \n\n     Runtime (Minutes)  Rating   Votes  Revenue (Millions)  Metascore  \n0                  121     8.1  757074              333.13       76.0  \n1                  124     7.0  485820              126.46       65.0  \n2                  117     7.3  157606              138.12       62.0  \n3                  108     7.2   60545              270.32       59.0  \n4                  123     6.2  393727              325.02       40.0  \n..                 ...     ...     ...                 ...        ...  \n993                 97     5.9  140900               60.13       37.0  \n994                 88     6.7  164088               54.72       48.0  \n996                 94     5.5   73152               17.54       46.0  \n997                 98     6.2   70699               58.01       50.0  \n999                 87     5.3   12435               19.64       11.0  \n\n[838 rows x 12 columns]",
      "text/html": "<div>\n<style scoped>\n    .dataframe tbody tr th:only-of-type {\n        vertical-align: middle;\n    }\n\n    .dataframe tbody tr th {\n        vertical-align: top;\n    }\n\n    .dataframe thead th {\n        text-align: right;\n    }\n</style>\n<table border=\"1\" class=\"dataframe\">\n  <thead>\n    <tr style=\"text-align: right;\">\n      <th></th>\n      <th>Rank</th>\n      <th>Title</th>\n      <th>Genre</th>\n      <th>Description</th>\n      <th>Director</th>\n      <th>Actors</th>\n      <th>Year</th>\n      <th>Runtime (Minutes)</th>\n      <th>Rating</th>\n      <th>Votes</th>\n      <th>Revenue (Millions)</th>\n      <th>Metascore</th>\n    </tr>\n  </thead>\n  <tbody>\n    <tr>\n      <th>0</th>\n      <td>1</td>\n      <td>Guardians of the Galaxy</td>\n      <td>Action,Adventure,Sci-Fi</td>\n      <td>A group of intergalactic criminals are forced ...</td>\n      <td>James Gunn</td>\n      <td>Chris Pratt, Vin Diesel, Bradley Cooper, Zoe S...</td>\n      <td>2014</td>\n      <td>121</td>\n      <td>8.1</td>\n      <td>757074</td>\n      <td>333.13</td>\n      <td>76.0</td>\n    </tr>\n    <tr>\n      <th>1</th>\n      <td>2</td>\n      <td>Prometheus</td>\n      <td>Adventure,Mystery,Sci-Fi</td>\n      <td>Following clues to the origin of mankind, a te...</td>\n      <td>Ridley Scott</td>\n      <td>Noomi Rapace, Logan Marshall-Green, Michael Fa...</td>\n      <td>2012</td>\n      <td>124</td>\n      <td>7.0</td>\n      <td>485820</td>\n      <td>126.46</td>\n      <td>65.0</td>\n    </tr>\n    <tr>\n      <th>2</th>\n      <td>3</td>\n      <td>Split</td>\n      <td>Horror,Thriller</td>\n      <td>Three girls are kidnapped by a man with a diag...</td>\n      <td>M. Night Shyamalan</td>\n      <td>James McAvoy, Anya Taylor-Joy, Haley Lu Richar...</td>\n      <td>2016</td>\n      <td>117</td>\n      <td>7.3</td>\n      <td>157606</td>\n      <td>138.12</td>\n      <td>62.0</td>\n    </tr>\n    <tr>\n      <th>3</th>\n      <td>4</td>\n      <td>Sing</td>\n      <td>Animation,Comedy,Family</td>\n      <td>In a city of humanoid animals, a hustling thea...</td>\n      <td>Christophe Lourdelet</td>\n      <td>Matthew McConaughey,Reese Witherspoon, Seth Ma...</td>\n      <td>2016</td>\n      <td>108</td>\n      <td>7.2</td>\n      <td>60545</td>\n      <td>270.32</td>\n      <td>59.0</td>\n    </tr>\n    <tr>\n      <th>4</th>\n      <td>5</td>\n      <td>Suicide Squad</td>\n      <td>Action,Adventure,Fantasy</td>\n      <td>A secret government agency recruits some of th...</td>\n      <td>David Ayer</td>\n      <td>Will Smith, Jared Leto, Margot Robbie, Viola D...</td>\n      <td>2016</td>\n      <td>123</td>\n      <td>6.2</td>\n      <td>393727</td>\n      <td>325.02</td>\n      <td>40.0</td>\n    </tr>\n    <tr>\n      <th>...</th>\n      <td>...</td>\n      <td>...</td>\n      <td>...</td>\n      <td>...</td>\n      <td>...</td>\n      <td>...</td>\n      <td>...</td>\n      <td>...</td>\n      <td>...</td>\n      <td>...</td>\n      <td>...</td>\n      <td>...</td>\n    </tr>\n    <tr>\n      <th>993</th>\n      <td>994</td>\n      <td>Resident Evil: Afterlife</td>\n      <td>Action,Adventure,Horror</td>\n      <td>While still out to destroy the evil Umbrella C...</td>\n      <td>Paul W.S. Anderson</td>\n      <td>Milla Jovovich, Ali Larter, Wentworth Miller,K...</td>\n      <td>2010</td>\n      <td>97</td>\n      <td>5.9</td>\n      <td>140900</td>\n      <td>60.13</td>\n      <td>37.0</td>\n    </tr>\n    <tr>\n      <th>994</th>\n      <td>995</td>\n      <td>Project X</td>\n      <td>Comedy</td>\n      <td>3 high school seniors throw a birthday party t...</td>\n      <td>Nima Nourizadeh</td>\n      <td>Thomas Mann, Oliver Cooper, Jonathan Daniel Br...</td>\n      <td>2012</td>\n      <td>88</td>\n      <td>6.7</td>\n      <td>164088</td>\n      <td>54.72</td>\n      <td>48.0</td>\n    </tr>\n    <tr>\n      <th>996</th>\n      <td>997</td>\n      <td>Hostel: Part II</td>\n      <td>Horror</td>\n      <td>Three American college students studying abroa...</td>\n      <td>Eli Roth</td>\n      <td>Lauren German, Heather Matarazzo, Bijou Philli...</td>\n      <td>2007</td>\n      <td>94</td>\n      <td>5.5</td>\n      <td>73152</td>\n      <td>17.54</td>\n      <td>46.0</td>\n    </tr>\n    <tr>\n      <th>997</th>\n      <td>998</td>\n      <td>Step Up 2: The Streets</td>\n      <td>Drama,Music,Romance</td>\n      <td>Romantic sparks occur between two dance studen...</td>\n      <td>Jon M. Chu</td>\n      <td>Robert Hoffman, Briana Evigan, Cassie Ventura,...</td>\n      <td>2008</td>\n      <td>98</td>\n      <td>6.2</td>\n      <td>70699</td>\n      <td>58.01</td>\n      <td>50.0</td>\n    </tr>\n    <tr>\n      <th>999</th>\n      <td>1000</td>\n      <td>Nine Lives</td>\n      <td>Comedy,Family,Fantasy</td>\n      <td>A stuffy businessman finds himself trapped ins...</td>\n      <td>Barry Sonnenfeld</td>\n      <td>Kevin Spacey, Jennifer Garner, Robbie Amell,Ch...</td>\n      <td>2016</td>\n      <td>87</td>\n      <td>5.3</td>\n      <td>12435</td>\n      <td>19.64</td>\n      <td>11.0</td>\n    </tr>\n  </tbody>\n</table>\n<p>838 rows × 12 columns</p>\n</div>"
     },
     "execution_count": 15,
     "metadata": {},
     "output_type": "execute_result"
    }
   ],
   "source": [
    "# Đối với xoá hàng, ta dùng:\n",
    "data.dropna()"
   ],
   "metadata": {
    "collapsed": false,
    "ExecuteTime": {
     "end_time": "2024-08-27T15:09:27.228119Z",
     "start_time": "2024-08-27T15:09:27.220794Z"
    }
   },
   "id": "d89510a892a7cfd6",
   "execution_count": 15
  },
  {
   "cell_type": "markdown",
   "source": [
    "10. Dealing with missing values - Filling"
   ],
   "metadata": {
    "collapsed": false
   },
   "id": "16ab85d5a0a9f58c"
  },
  {
   "cell_type": "code",
   "outputs": [
    {
     "name": "stdout",
     "output_type": "stream",
     "text": [
      "The mean revenue is:  82.95637614678898\n"
     ]
    }
   ],
   "source": [
    "revenue_mean = data['Revenue (Millions)'].mean()\n",
    "print(\"The mean revenue is: \", revenue_mean)\n",
    "\n",
    "#We can fill the null values with this mean revenue\n",
    "data['Revenue (Millions)'].fillna(revenue_mean, inplace = True)"
   ],
   "metadata": {
    "collapsed": false,
    "ExecuteTime": {
     "end_time": "2024-08-27T15:10:53.750784Z",
     "start_time": "2024-08-27T15:10:53.740263Z"
    }
   },
   "id": "985b538719b220ce",
   "execution_count": 17
  },
  {
   "cell_type": "markdown",
   "source": [
    "11. apply() functions"
   ],
   "metadata": {
    "collapsed": false
   },
   "id": "6786761ba8836115"
  },
  {
   "cell_type": "code",
   "outputs": [
    {
     "data": {
      "text/plain": "                     Title              Director  Rating Rating_category\n0  Guardians of the Galaxy            James Gunn     8.1            Good\n1               Prometheus          Ridley Scott     7.0         Average\n2                    Split    M. Night Shyamalan     7.3         Average\n3                     Sing  Christophe Lourdelet     7.2         Average\n4            Suicide Squad            David Ayer     6.2         Average",
      "text/html": "<div>\n<style scoped>\n    .dataframe tbody tr th:only-of-type {\n        vertical-align: middle;\n    }\n\n    .dataframe tbody tr th {\n        vertical-align: top;\n    }\n\n    .dataframe thead th {\n        text-align: right;\n    }\n</style>\n<table border=\"1\" class=\"dataframe\">\n  <thead>\n    <tr style=\"text-align: right;\">\n      <th></th>\n      <th>Title</th>\n      <th>Director</th>\n      <th>Rating</th>\n      <th>Rating_category</th>\n    </tr>\n  </thead>\n  <tbody>\n    <tr>\n      <th>0</th>\n      <td>Guardians of the Galaxy</td>\n      <td>James Gunn</td>\n      <td>8.1</td>\n      <td>Good</td>\n    </tr>\n    <tr>\n      <th>1</th>\n      <td>Prometheus</td>\n      <td>Ridley Scott</td>\n      <td>7.0</td>\n      <td>Average</td>\n    </tr>\n    <tr>\n      <th>2</th>\n      <td>Split</td>\n      <td>M. Night Shyamalan</td>\n      <td>7.3</td>\n      <td>Average</td>\n    </tr>\n    <tr>\n      <th>3</th>\n      <td>Sing</td>\n      <td>Christophe Lourdelet</td>\n      <td>7.2</td>\n      <td>Average</td>\n    </tr>\n    <tr>\n      <th>4</th>\n      <td>Suicide Squad</td>\n      <td>David Ayer</td>\n      <td>6.2</td>\n      <td>Average</td>\n    </tr>\n  </tbody>\n</table>\n</div>"
     },
     "execution_count": 18,
     "metadata": {},
     "output_type": "execute_result"
    }
   ],
   "source": [
    "# Classify movies based on ratings\n",
    "def rating_group(rating):\n",
    "    if rating >= 7.5:\n",
    "        return 'Good'\n",
    "    elif rating >= 6.0:\n",
    "        return \"Average\"\n",
    "    else:\n",
    "        return 'Bad'\n",
    "# Lets apply this function on our movies data\n",
    "# Creating a new variable in the dataset to hold the rating category\n",
    "data['Rating_category'] = data['Rating'].apply(rating_group)\n",
    "\n",
    "data[['Title', 'Director', 'Rating', 'Rating_category']].head(5)"
   ],
   "metadata": {
    "collapsed": false,
    "ExecuteTime": {
     "end_time": "2024-08-27T15:15:36.064084Z",
     "start_time": "2024-08-27T15:15:36.030356Z"
    }
   },
   "id": "a901f33f13193bed",
   "execution_count": 18
  }
 ],
 "metadata": {
  "kernelspec": {
   "display_name": "Python 3",
   "language": "python",
   "name": "python3"
  },
  "language_info": {
   "codemirror_mode": {
    "name": "ipython",
    "version": 2
   },
   "file_extension": ".py",
   "mimetype": "text/x-python",
   "name": "python",
   "nbconvert_exporter": "python",
   "pygments_lexer": "ipython2",
   "version": "2.7.6"
  }
 },
 "nbformat": 4,
 "nbformat_minor": 5
}
